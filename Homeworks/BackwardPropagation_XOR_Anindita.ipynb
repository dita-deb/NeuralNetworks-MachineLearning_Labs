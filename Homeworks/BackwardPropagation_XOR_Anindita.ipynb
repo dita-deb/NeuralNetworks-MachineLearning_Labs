{
 "cells": [
  {
   "cell_type": "code",
   "execution_count": 52,
   "id": "fc3937f0-6be0-4525-b1cb-876bb09111bb",
   "metadata": {},
   "outputs": [],
   "source": [
    "import numpy as np\n",
    "import pandas as pd\n",
    "import matplotlib.pyplot as plt"
   ]
  },
  {
   "cell_type": "code",
   "execution_count": 53,
   "id": "b5936e54-9850-4ff1-ae4e-7b90764e3893",
   "metadata": {},
   "outputs": [],
   "source": [
    "# Define the sigmoid activation function\n",
    "def sigmoid(x):\n",
    "    return 1 / (1 + np.exp(-x))"
   ]
  },
  {
   "cell_type": "code",
   "execution_count": 54,
   "id": "2cfbdf6e-75a5-49b6-b5a6-e64afc9d2147",
   "metadata": {},
   "outputs": [],
   "source": [
    "# Define the derivative of the sigmoid function\n",
    "def dsigmoid(x):\n",
    "    return x * (1 - x)"
   ]
  },
  {
   "cell_type": "code",
   "execution_count": 55,
   "id": "0d15b39a-7036-48d0-94c7-7e80effb4b1d",
   "metadata": {},
   "outputs": [],
   "source": [
    "# Define the forward propagation function\n",
    "def forward_propagation(X, W1, b1, W2, b2):\n",
    "    # Input layer to hidden layer\n",
    "    z1 = np.dot(X, W1) + b1\n",
    "    a1 = sigmoid(z1)\n",
    "\n",
    "    # Hidden layer to output layer\n",
    "    z2 = np.dot(a1, W2) + b2\n",
    "    a2 = sigmoid(z2)\n",
    "\n",
    "    return a1, a2"
   ]
  },
  {
   "cell_type": "code",
   "execution_count": 56,
   "id": "58bc2535-8be9-4f16-9c10-2bdcf244d8e5",
   "metadata": {},
   "outputs": [],
   "source": [
    "# Define the backward propagation function\n",
    "def backward_propagation(X, Y, a1, a2, W2):\n",
    "    # Compute the error in the output layer\n",
    "    error_output = Y - a2\n",
    "    delta_output = error_output * dsigmoid(a2)\n",
    "\n",
    "    # Compute the error in the hidden layer\n",
    "    error_hidden = np.dot(delta_output, W2.T)\n",
    "    delta_hidden = error_hidden * dsigmoid(a1)\n",
    "\n",
    "    return delta_output, delta_hidden"
   ]
  },
  {
   "cell_type": "code",
   "execution_count": 57,
   "id": "71ba7223-97c3-45ae-871f-1f974a2d8b64",
   "metadata": {},
   "outputs": [],
   "source": [
    "# Define the gradient descent function to update weights and biases\n",
    "def update_weights(X, a1, delta_output, delta_hidden, W1, b1, W2, b2, learning_rate):\n",
    "    # Update weights and biases for the output layer\n",
    "    W2 += np.dot(a1.T, delta_output) * learning_rate\n",
    "    b2 += np.sum(delta_output, axis=0) * learning_rate\n",
    "\n",
    "    # Update weights and biases for the hidden layer\n",
    "    W1 += np.dot(X.T, delta_hidden) * learning_rate\n",
    "    b1 += np.sum(delta_hidden, axis=0) * learning_rate\n",
    "\n",
    "    return W1, b1, W2, b2"
   ]
  },
  {
   "cell_type": "code",
   "execution_count": 58,
   "id": "6ef7afa0-3880-47c9-b7ac-842b2ff01b1d",
   "metadata": {},
   "outputs": [],
   "source": [
    "# Defining the XOR gate input and output\n",
    "X = np.array([[0, 0],\n",
    "              [0, 1],\n",
    "              [1, 0],\n",
    "              [1, 1]])\n",
    "\n",
    "Y = np.array([[0],\n",
    "              [1],\n",
    "              [1],\n",
    "              [0]])"
   ]
  },
  {
   "cell_type": "code",
   "execution_count": 59,
   "id": "d3468c40-7cbb-4ead-849e-54c0dbcdad8e",
   "metadata": {},
   "outputs": [],
   "source": [
    "# Initialize weights and biases\n",
    "input_dim = 2\n",
    "hidden_dim = 2\n",
    "output_dim = 1\n",
    "learning_rate = 0.1"
   ]
  },
  {
   "cell_type": "code",
   "execution_count": 60,
   "id": "ff62b1e9-8ef3-4450-9aa6-299ed7182818",
   "metadata": {},
   "outputs": [],
   "source": [
    "np.random.seed(1)\n",
    "W1 = np.random.randn(input_dim, hidden_dim)\n",
    "b1 = np.zeros((1, hidden_dim))\n",
    "W2 = np.random.randn(hidden_dim, output_dim)\n",
    "b2 = np.zeros((1, output_dim))"
   ]
  },
  {
   "cell_type": "code",
   "execution_count": 61,
   "id": "842c6b6f-c833-41e9-a120-35e43b6b36e5",
   "metadata": {},
   "outputs": [],
   "source": [
    "# Training loop\n",
    "epochs = 10000\n",
    "for epoch in range(epochs):\n",
    "    # Forward propagation\n",
    "    a1, a2 = forward_propagation(X, W1, b1, W2, b2)\n",
    "\n",
    "    # Backward propagation\n",
    "    delta_output, delta_hidden = backward_propagation(X, Y, a1, a2, W2)\n",
    "\n",
    "    # Update weights and biases\n",
    "    W1, b1, W2, b2 = update_weights(X, a1, delta_output, delta_hidden, W1, b1, W2, b2, learning_rate)\n"
   ]
  },
  {
   "cell_type": "code",
   "execution_count": 62,
   "id": "7510690e-1549-4db2-bc63-d669cad527bf",
   "metadata": {},
   "outputs": [
    {
     "name": "stdout",
     "output_type": "stream",
     "text": [
      "Final predictions after training:\n",
      "[[0.04698822]\n",
      " [0.9450739 ]\n",
      " [0.94369346]\n",
      " [0.07384886]]\n"
     ]
    }
   ],
   "source": [
    "# Print final predictions\n",
    "print(\"Final predictions after training:\")\n",
    "print(a2)"
   ]
  },
  {
   "cell_type": "code",
   "execution_count": 63,
   "id": "d262db78-2699-4353-aa25-09e0bcb0ddb1",
   "metadata": {},
   "outputs": [
    {
     "data": {
      "image/png": "[encoded data removed]",
      "text/plain": [
       "<Figure size 640x480 with 1 Axes>"
      ]
     },
     "metadata": {},
     "output_type": "display_data"
    }
   ],
   "source": [
    "# Define the loss function\n",
    "def compute_loss(Y, a2):\n",
    "    return np.mean((Y - a2) ** 2)\n",
    "\n",
    "# Initialize lists to store loss and epochs\n",
    "losses = []\n",
    "epochs = []\n",
    "\n",
    "# Training loop\n",
    "for epoch in range(10000):\n",
    "    # Forward propagation\n",
    "    a1, a2 = forward_propagation(X, W1, b1, W2, b2)\n",
    "\n",
    "    # Compute loss\n",
    "    loss = compute_loss(Y, a2)\n",
    "\n",
    "    # Backward propagation\n",
    "    delta_output, delta_hidden = backward_propagation(X, Y, a1, a2, W2)\n",
    "\n",
    "    # Update weights and biases\n",
    "    W1, b1, W2, b2 = update_weights(X, a1, delta_output, delta_hidden, W1, b1, W2, b2, learning_rate)\n",
    "\n",
    "    # Store loss and epoch\n",
    "    losses.append(loss)\n",
    "    epochs.append(epoch)\n",
    "\n",
    "# Plot the loss over epochs\n",
    "plt.plot(epochs, losses)\n",
    "plt.xlabel('Epochs')\n",
    "plt.ylabel('Loss')\n",
    "plt.title('Loss over Epochs')\n",
    "plt.show()"
   ]
  },
  {
   "cell_type": "code",
   "execution_count": null,
   "id": "edb74403-673d-4295-a91d-5c95c6fc7ad3",
   "metadata": {},
   "outputs": [],
   "source": []
  }
 ],
 "metadata": {
  "kernelspec": {
   "display_name": "Python 3 (ipykernel)",
   "language": "python",
   "name": "python3"
  },
  "language_info": {
   "codemirror_mode": {
    "name": "ipython",
    "version": 3
   },
   "file_extension": ".py",
   "mimetype": "text/x-python",
   "name": "python",
   "nbconvert_exporter": "python",
   "pygments_lexer": "ipython3",
   "version": "3.10.13"
  }
 },
 "nbformat": 4,
 "nbformat_minor": 5
}
