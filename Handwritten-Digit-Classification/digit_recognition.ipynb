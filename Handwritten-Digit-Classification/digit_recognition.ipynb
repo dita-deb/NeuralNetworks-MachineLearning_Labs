{
 "cells": [
  {
   "cell_type": "code",
   "execution_count": 1,
   "id": "44819f58-4e8c-4615-b852-2c79fde8aeaa",
   "metadata": {},
   "outputs": [],
   "source": [
    "from keras.datasets import mnist\n",
    "import matplotlib.pyplot as plt\n",
    "import numpy as np\n",
    "from keras.datasets import mnist\n",
    "from keras.models import Sequential\n",
    "from keras.layers import Dense\n",
    "from keras.layers import Dropout\n",
    "from keras.utils import np_utils\n",
    "from sklearn import preprocessing\n",
    "import pickle\n",
    "from keras.models import model_from_yaml"
   ]
  },
  {
   "cell_type": "code",
   "execution_count": 4,
   "id": "6ac66d43-fcd3-43b7-adf8-3e3f1c1661b3",
   "metadata": {},
   "outputs": [],
   "source": [
    "def classifier():\n",
    "    \"\"\"\n",
    "    Creates an model for MNIST image classification with input dimension 784\n",
    "    returns: Keras model\n",
    "    \"\"\"\n",
    "\n",
    "    model = Sequential()\n",
    "    model.add(Dense(num_pixels,input_dim=num_pixels,kernel_initializer='normal',activation='relu'))\n",
    "    model.add(Dense(int(num_pixels/2),activation='relu'))\n",
    "    model.add(Dropout(0.2))\n",
    "    model.add(Dense(int(num_pixels/2),activation='relu'))\n",
    "    model.add(Dense(int(num_pixels/2),activation='relu'))\n",
    "\n",
    "    model.add(Dense(num_classes,activation='softmax'))\n",
    "\n",
    "    return model\n",
    "\n"
   ]
  },
  {
   "cell_type": "code",
   "execution_count": 5,
   "id": "0fded00b-f8ec-41d1-9a80-88a7b1cd9079",
   "metadata": {},
   "outputs": [],
   "source": [
    "def writeResultsToFile(events,filePath):\n",
    "    \"\"\"\n",
    "    Writes events to pickle file. Ideally dump few objects where the objects could be any data structures\n",
    "    containing other objects\n",
    "    :param events:\n",
    "    :param filePath:\n",
    "    \"\"\"\n",
    "    print(\"Writing...\")\n",
    "    if filePath[-3:]!=\"pkl\":\n",
    "        filePath = filePath+\".pkl\"\n",
    "\n",
    "    with open(filePath, \"wb\") as output:\n",
    "\n",
    "        pickle.dump(events, output, pickle.HIGHEST_PROTOCOL)\n"
   ]
  },
  {
   "cell_type": "code",
   "execution_count": 6,
   "id": "80da661d-b69f-49b1-bf17-ee0d7fef2810",
   "metadata": {},
   "outputs": [],
   "source": [
    "def loadResultsFromFile(filePath,python2 = False):\n",
    "    \"\"\"\n",
    "    Loads objects from pickle file\n",
    "    :param filePath:\n",
    "    :return: values in pickle file\n",
    "    \"\"\"\n",
    "    load = []\n",
    "    print(\"Loading...\")\n",
    "    with open(filePath, \"rb\") as file:\n",
    "        hasNext = True\n",
    "        if python2:\n",
    "\n",
    "            load.append(pickle.load(file))\n",
    "        else:\n",
    "            load.append(pickle.load(file, encoding='latin1'))\n",
    "        while hasNext:\n",
    "            try:\n",
    "                if python2:\n",
    "                    load.append(pickle.load(file))\n",
    "                else:\n",
    "                    load.append(pickle.load(file, encoding='latin1'))\n",
    "            except:\n",
    "                hasNext = False\n",
    "\n",
    "    if len(load) == 1:\n",
    "        return load[0]\n",
    "    else:\n",
    "        return load"
   ]
  },
  {
   "cell_type": "code",
   "execution_count": 7,
   "id": "48d8a5cb-08b8-4b1d-961d-fb5fdd589084",
   "metadata": {},
   "outputs": [],
   "source": [
    "# flatten 28*28 images to a 784 vector for each image\n",
    "(x_train, y_train), (x_test, y_test) = mnist.load_data()"
   ]
  },
  {
   "cell_type": "code",
   "execution_count": 14,
   "id": "1bab73e7-f605-4ffc-afe4-53836a9b80fe",
   "metadata": {},
   "outputs": [
    {
     "ename": "IndexError",
     "evalue": "tuple index out of range",
     "output_type": "error",
     "traceback": [
      "\u001b[1;31m---------------------------------------------------------------------------\u001b[0m",
      "\u001b[1;31mIndexError\u001b[0m                                Traceback (most recent call last)",
      "Cell \u001b[1;32mIn[14], line 1\u001b[0m\n\u001b[1;32m----> 1\u001b[0m num_pixels \u001b[38;5;241m=\u001b[39m x_train\u001b[38;5;241m.\u001b[39mshape[\u001b[38;5;241m1\u001b[39m] \u001b[38;5;241m*\u001b[39m \u001b[43mx_train\u001b[49m\u001b[38;5;241;43m.\u001b[39;49m\u001b[43mshape\u001b[49m\u001b[43m[\u001b[49m\u001b[38;5;241;43m2\u001b[39;49m\u001b[43m]\u001b[49m\n\u001b[0;32m      2\u001b[0m x_train \u001b[38;5;241m=\u001b[39m x_train\u001b[38;5;241m.\u001b[39mreshape(x_train\u001b[38;5;241m.\u001b[39mshape[\u001b[38;5;241m0\u001b[39m], num_pixels)\u001b[38;5;241m.\u001b[39mastype(\u001b[38;5;124m'\u001b[39m\u001b[38;5;124mfloat32\u001b[39m\u001b[38;5;124m'\u001b[39m)\n\u001b[0;32m      3\u001b[0m x_test \u001b[38;5;241m=\u001b[39m x_test\u001b[38;5;241m.\u001b[39mreshape(x_test\u001b[38;5;241m.\u001b[39mshape[\u001b[38;5;241m0\u001b[39m], num_pixels)\u001b[38;5;241m.\u001b[39mastype(\u001b[38;5;124m'\u001b[39m\u001b[38;5;124mfloat32\u001b[39m\u001b[38;5;124m'\u001b[39m)\n",
      "\u001b[1;31mIndexError\u001b[0m: tuple index out of range"
     ]
    }
   ],
   "source": [
    "num_pixels = x_train.shape[1] * x_train.shape[2]\n",
    "x_train = x_train.reshape(x_train.shape[0], num_pixels).astype('float32')\n",
    "x_test = x_test.reshape(x_test.shape[0], num_pixels).astype('float32')\n",
    "\n",
    "print (x_train.shape)\n",
    "print (x_test.shape)"
   ]
  },
  {
   "cell_type": "code",
   "execution_count": 9,
   "id": "7e4b2c77-c079-42af-a288-b5b82716a18c",
   "metadata": {},
   "outputs": [],
   "source": [
    "# one hot encode outputs\n",
    "y_train = np_utils.to_categorical(y_train)\n",
    "y_test = np_utils.to_categorical(y_test)\n",
    "num_classes = y_test.shape[1]\n",
    "\n",
    "num_classes = 10"
   ]
  },
  {
   "cell_type": "code",
   "execution_count": 10,
   "id": "b2af6564-c8c1-48c2-a362-38eef4ac72f5",
   "metadata": {},
   "outputs": [],
   "source": [
    "# Scale Data\n",
    "scaler = preprocessing.MinMaxScaler(feature_range=(0,1))\n",
    "scaler.fit(x_train)\n",
    "x_train = scaler.transform(x_train)\n",
    "\n",
    "scaler.fit(x_test)\n",
    "x_test = scaler.transform(x_test)"
   ]
  },
  {
   "cell_type": "code",
   "execution_count": 12,
   "id": "2ef4665e-e334-4aa9-9dbd-c0c9730bfb9c",
   "metadata": {},
   "outputs": [
    {
     "name": "stdout",
     "output_type": "stream",
     "text": [
      "Epoch 1/10\n",
      "300/300 [==============================] - 14s 44ms/step - loss: 0.2472 - accuracy: 0.9238 - val_loss: 0.1080 - val_accuracy: 0.9655\n",
      "Epoch 2/10\n",
      "300/300 [==============================] - 16s 52ms/step - loss: 0.0869 - accuracy: 0.9736 - val_loss: 0.0804 - val_accuracy: 0.9751\n",
      "Epoch 3/10\n",
      "300/300 [==============================] - 14s 46ms/step - loss: 0.0621 - accuracy: 0.9801 - val_loss: 0.0718 - val_accuracy: 0.9794\n",
      "Epoch 4/10\n",
      "300/300 [==============================] - 9s 29ms/step - loss: 0.0428 - accuracy: 0.9866 - val_loss: 0.0703 - val_accuracy: 0.9803\n",
      "Epoch 5/10\n",
      "300/300 [==============================] - 6s 19ms/step - loss: 0.0354 - accuracy: 0.9885 - val_loss: 0.0858 - val_accuracy: 0.9759\n",
      "Epoch 6/10\n",
      "300/300 [==============================] - 6s 19ms/step - loss: 0.0303 - accuracy: 0.9910 - val_loss: 0.0786 - val_accuracy: 0.9794\n",
      "Epoch 7/10\n",
      "300/300 [==============================] - 6s 19ms/step - loss: 0.0285 - accuracy: 0.9906 - val_loss: 0.0978 - val_accuracy: 0.9754\n",
      "Epoch 8/10\n",
      "300/300 [==============================] - 8s 25ms/step - loss: 0.0219 - accuracy: 0.9930 - val_loss: 0.0894 - val_accuracy: 0.9764\n",
      "Epoch 9/10\n",
      "300/300 [==============================] - 7s 22ms/step - loss: 0.0201 - accuracy: 0.9937 - val_loss: 0.0732 - val_accuracy: 0.9818\n",
      "Epoch 10/10\n",
      "300/300 [==============================] - 6s 21ms/step - loss: 0.0189 - accuracy: 0.9944 - val_loss: 0.0854 - val_accuracy: 0.9814\n",
      "Model: \"sequential_1\"\n",
      "_________________________________________________________________\n",
      " Layer (type)                Output Shape              Param #   \n",
      "=================================================================\n",
      " dense_5 (Dense)             (None, 784)               615440    \n",
      "                                                                 \n",
      " dense_6 (Dense)             (None, 392)               307720    \n",
      "                                                                 \n",
      " dropout_1 (Dropout)         (None, 392)               0         \n",
      "                                                                 \n",
      " dense_7 (Dense)             (None, 392)               154056    \n",
      "                                                                 \n",
      " dense_8 (Dense)             (None, 392)               154056    \n",
      "                                                                 \n",
      " dense_9 (Dense)             (None, 10)                3930      \n",
      "                                                                 \n",
      "=================================================================\n",
      "Total params: 1,235,202\n",
      "Trainable params: 1,235,202\n",
      "Non-trainable params: 0\n",
      "_________________________________________________________________\n",
      "None\n"
     ]
    }
   ],
   "source": [
    "# Create and compile model\n",
    "\n",
    "model = classifier()\n",
    "model.compile(loss='categorical_crossentropy',optimizer='adam',metrics=['accuracy'])\n",
    "model.fit(x_train,y_train,validation_data=(x_test, y_test), epochs=10, batch_size=200,verbose = 1)\n",
    "print(model.summary())"
   ]
  },
  {
   "cell_type": "code",
   "execution_count": null,
   "id": "3376f8e2-1189-4652-a433-1e6a66eabdff",
   "metadata": {},
   "outputs": [],
   "source": []
  }
 ],
 "metadata": {
  "kernelspec": {
   "display_name": "Python 3 (ipykernel)",
   "language": "python",
   "name": "python3"
  },
  "language_info": {
   "codemirror_mode": {
    "name": "ipython",
    "version": 3
   },
   "file_extension": ".py",
   "mimetype": "text/x-python",
   "name": "python",
   "nbconvert_exporter": "python",
   "pygments_lexer": "ipython3",
   "version": "3.10.13"
  }
 },
 "nbformat": 4,
 "nbformat_minor": 5
}
